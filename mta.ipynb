{
 "cells": [
  {
   "cell_type": "code",
   "execution_count": 1,
   "id": "0c9cea4f",
   "metadata": {},
   "outputs": [],
   "source": [
    "import numpy as np\n",
    "import pandas as pd\n",
    "import sqlite3\n",
    "from datetime import timedelta\n",
    "from sqlalchemy import create_engine\n",
    "import datetime\n",
    "import matplotlib.pyplot as plt\n",
    "import seaborn as sns\n",
    "\n",
    "pd.set_option('display.max_columns', None)\n",
    "pd.set_option('display.max_rows', 30)\n",
    "pd.set_option('display.precision', 3)\n",
    "\n",
    "MAX_INGRESS_P = 12000\n",
    "MAX_INGRESS_N = 1000\n",
    "MAX_EGRESS_P = 12000\n",
    "MAX_EGRESS_N = 1000\n",
    "\n",
    "#Always starts with a clean table to store python\n",
    "#data cleaning results \n",
    "def create_clean_table(table_name):\n",
    "    conn = sqlite3.connect('mta.db')\n",
    "\n",
    "    #Creating a cursor object using the cursor() method\n",
    "    cursor = conn.cursor()\n",
    "    cursor.execute('DROP TABLE IF EXISTS {};'.format(table_name))\n",
    "    conn.commit()\n",
    "    cursor.execute('''CREATE TABLE {}(\n",
    "    UNIT TEXT, SCP TEXT, CA TEXT, STATION TEXT,\n",
    "    LINENAME TEXT, ENTRIES INTEGER,EXITS INTEGER,\n",
    "    Year INTEGER, WEEK INTEGER,\n",
    "    PRIMARY KEY(UNIT,SCP,CA,STATION,LINENAME, Year,Week)\n",
    "    );'''.format(table_name))\n",
    "    conn.commit()\n",
    "    conn.close()\n",
    "    return\n",
    "\n",
    "def proj1_clean(datafile):\n",
    "    df=pd.read_csv(datafile,converters={'DATE':pd.to_datetime})\n",
    "    df.columns = [column.strip() for column in df.columns]\n",
    "    df['Ingress'] = df['ENTRIES'].diff()\n",
    "    df['Egress']= df.iloc[:,10].diff()\n",
    "    errcnt=[0]*7\n",
    "    max_row = len(df)  \n",
    "    \n",
    "    full_unit_name= df['UNIT'] + df['SCP']\n",
    "    full_unit1 = full_unit_name.shift(1)\n",
    "    \n",
    "    #boolean series indicates if current row is the same turnstile as previous row\n",
    "    same_unit = full_unit1.eq(full_unit_name)\n",
    "    df.iloc[0,11] = 0\n",
    "    df.iloc[0,12] = 0\n",
    " \n",
    "    # Set Ingress to 0 for any row when it is not the same unit as the result\n",
    "    # of diff() from above is only valid for rows belong to the same unit\n",
    "    df['Ingress'] = df['Ingress'] * same_unit  #element wise multiply with 1/0    \n",
    "    df['Egress'] = df['Egress'] * same_unit\n",
    "\n",
    "    # Set Ingress to -(Ingress) for any row if  Ingress  < 0 \n",
    "    # and the next row is also negative. This account for persistent counting down\n",
    "    # for counters installed incorrectly\n",
    "    smallN_Check = df['Ingress'] <= 0\n",
    "    shifted=smallN_Check.shift(-1)\n",
    "    shifted[max_row-1]=False\n",
    "    df['Ingress'] = (1-(smallN_Check & shifted) *2) * df['Ingress']\n",
    "    errcnt[0] = smallN_Check.sum()\n",
    "    \n",
    "    # Set Ingress to 0 for any row when it is > MAX_INGRESS_P    \n",
    "    Max_Check = df['Ingress'] < MAX_INGRESS_P\n",
    "    # Set Ingress to 0 for any row when it is < -MAX_INGRESS_N    \n",
    "    MaxN_Check = df['Ingress'] > -MAX_INGRESS_N\n",
    "    df['Ingress'] = df['Ingress'] * MaxN_Check * Max_Check  #element wise multiply with 1/0\n",
    "    saved_mask = MaxN_Check & Max_Check\n",
    "    errcnt[1] = max_row - Max_Check.sum()\n",
    "    errcnt[2] = max_row - MaxN_Check.sum()  \n",
    "\n",
    "    \n",
    "    # Set Egress to -(Engress) for any row when  Engress <0       \n",
    "    smallN_Check = df['Egress'] <= 0\n",
    "    shifted=smallN_Check.shift(-1)\n",
    "    shifted[max_row-1]=False\n",
    "    df['Egress'] = (1-(smallN_Check & shifted) *2) * df['Egress']  \n",
    "    errcnt[3] = smallN_Check.sum()\n",
    "    \n",
    "    # Set Egress to 0 for any row when it is > MAX_EGRESS_P    \n",
    "    Max_Check = df['Egress'] < MAX_EGRESS_P\n",
    "    # Set Engress to 0 for any row when it is < -MAX_EGRESS_N    \n",
    "    MaxN_Check = df['Egress'] > -MAX_EGRESS_N\n",
    "    df['Egress'] = df['Egress'] * MaxN_Check * Max_Check  #element wise multiply with 1/0\n",
    "    saved_mask = saved_mask & MaxN_Check & Max_Check\n",
    "    errcnt[4] = max_row - Max_Check.sum()\n",
    "    errcnt[5] = max_row - MaxN_Check.sum()\n",
    "    \n",
    "    #This includes all the main correction made to the Ingress/Egress data \n",
    "    df['Mask']=~saved_mask    \n",
    "    df['Week']=df.DATE.dt.isocalendar().week\n",
    "#    df['DATE_TIME']=pd.to_datetime(df['DATE']+df['TIME'],format='%m/%d/%Y%H:%M:%S') \n",
    "    df['Net']=df['Ingress']-df['Egress'] \n",
    "    weekly=df.groupby(['UNIT','SCP','C/A','STATION','LINENAME'])[['Ingress','Egress']].sum().reset_index()\n",
    "    \n",
    "    #Add date to the weekly result \n",
    "    weekly['Year']=year=df.iloc[0,6].isocalendar()[0]\n",
    "    weekly['Week']=week=df.iloc[0,6].isocalendar()[1]\n",
    "    return errcnt,weekly"
   ]
  },
  {
   "cell_type": "code",
   "execution_count": 2,
   "id": "5652f5fa",
   "metadata": {},
   "outputs": [],
   "source": [
    "create_clean_table('mta_station')"
   ]
  },
  {
   "cell_type": "code",
   "execution_count": 6,
   "id": "dbdfc88a",
   "metadata": {},
   "outputs": [],
   "source": [
    "datafiles=['210612','200613','190615','180609','170610','160611','150613']\n",
    "for name in datafiles:\n",
    "    datafile='http://web.mta.info/developers/data/nyct/turnstile/turnstile_{}.txt'.format(name)\n",
    "    errcnt,w1=proj1_clean(datafile)\n",
    "    w1.to_csv('mta{}_{}.csv'.format(w1.loc[0,'Year'],w1.loc[0,'Week']),\n",
    "              header=False,index=False)"
   ]
  },
  {
   "cell_type": "code",
   "execution_count": 12,
   "id": "308e3a23",
   "metadata": {},
   "outputs": [
    {
     "name": "stdout",
     "output_type": "stream",
     "text": [
      "cat: mta.csv: input file is output file\r\n"
     ]
    }
   ],
   "source": [
    "!echo \"UNIT,SCP,CA,STATION,LINENAME,ENTRIES,EXITS,Year,Week\" >mta.csv\n",
    "!cat *.csv >> mta.csv\n",
    "week=pd.read_csv('mta.csv')"
   ]
  },
  {
   "cell_type": "code",
   "execution_count": null,
   "id": "c76f809b",
   "metadata": {},
   "outputs": [],
   "source": [
    "#week.columns=['UNIT','SCP','CA','STATION','LINENAME','ENTRIES','EXITS','Year','Week']"
   ]
  },
  {
   "cell_type": "code",
   "execution_count": 14,
   "id": "51652ab8",
   "metadata": {},
   "outputs": [
    {
     "data": {
      "text/plain": [
       "UNIT  Year\n",
       "R001  2015    189574.0\n",
       "      2016    188537.0\n",
       "      2017    217946.0\n",
       "      2018    213668.0\n",
       "      2019    211718.0\n",
       "                ...   \n",
       "R572  2017    111844.0\n",
       "      2018    123392.0\n",
       "      2019    125802.0\n",
       "      2020     19458.0\n",
       "      2021     44318.0\n",
       "Name: ENTRIES, Length: 3267, dtype: float64"
      ]
     },
     "execution_count": 14,
     "metadata": {},
     "output_type": "execute_result"
    }
   ],
   "source": [
    "week.groupby(['UNIT','Year']).ENTRIES.sum()"
   ]
  },
  {
   "cell_type": "code",
   "execution_count": 15,
   "id": "1a87643e",
   "metadata": {},
   "outputs": [],
   "source": [
    "week['Net']=week['ENTRIES']-week['EXITS']"
   ]
  },
  {
   "cell_type": "code",
   "execution_count": 16,
   "id": "10e0973e",
   "metadata": {},
   "outputs": [],
   "source": [
    "week['Total']=week['ENTRIES']+week['EXITS']"
   ]
  },
  {
   "cell_type": "code",
   "execution_count": 17,
   "id": "1a655be3",
   "metadata": {},
   "outputs": [],
   "source": [
    "wk_res=week.groupby(['Year'])[['Net','Total','ENTRIES','EXITS']].sum()"
   ]
  },
  {
   "cell_type": "code",
   "execution_count": 18,
   "id": "e66a6b75",
   "metadata": {},
   "outputs": [],
   "source": [
    "import matplotlib.pyplot as plt\n",
    "import seaborn as sns"
   ]
  },
  {
   "cell_type": "markdown",
   "id": "a85da386",
   "metadata": {},
   "source": [
    "From this Figure, total subway ridership per week dropped from around 60 millions pre-COVID, to 15 million per week at worst, and has sinced recovered to near 30 millions per week.\n",
    "One point to note is that, entries used to be larger than exits by a large margin, and this trend ahs reversed post COVID.\n",
    "In figure 2, we can see entries used to be about 56% of total traffic, while exits only account for 44% total traffic. This is been reversed post COVID."
   ]
  },
  {
   "cell_type": "code",
   "execution_count": 19,
   "id": "b16aea75",
   "metadata": {},
   "outputs": [
    {
     "data": {
      "image/png": "[encoded data removed]",
      "text/plain": [
       "<Figure size 864x432 with 2 Axes>"
      ]
     },
     "metadata": {
      "needs_background": "light"
     },
     "output_type": "display_data"
    }
   ],
   "source": [
    "plt.figure(figsize=[12,6])\n",
    "plt.subplot(1,2,1)\n",
    "plt.title('Total traffic before and after COVID')\n",
    "plt.plot(wk_res.index,wk_res.Total,label='Total')\n",
    "plt.plot(wk_res.index,wk_res.ENTRIES,label='Entries')\n",
    "plt.plot(wk_res.index,wk_res.EXITS,label='Exits')\n",
    "plt.xlabel('Year')\n",
    "plt.legend()\n",
    "plt.subplot(1,2,2)\n",
    "plt.plot(wk_res.index,wk_res.ENTRIES/wk_res.Total * 100,label='Entries')\n",
    "plt.plot(wk_res.index,wk_res.EXITS/wk_res.Total * 100,label='Exits')\n",
    "plt.title('Total Net traffic as a percentage of total traffic')\n",
    "plt.xlabel('Year');\n"
   ]
  },
  {
   "cell_type": "markdown",
   "id": "db37d349",
   "metadata": {},
   "source": [
    "We will next examine the change on stations. We have a Box plot to show the distribution of \n",
    "Entries per station as a percentage of total traffic across the years. \n",
    "At 2020, we can see the distribution change. \n",
    "So many stations are seeing the shift, rather than a few large stations."
   ]
  },
  {
   "cell_type": "code",
   "execution_count": 22,
   "id": "656c78e2",
   "metadata": {},
   "outputs": [],
   "source": [
    "week['ratio']=week['ENTRIES']/week['Total']\n",
    "week_station = week.groupby(['UNIT','Year'])[['ENTRIES','EXITS']].sum().reset_index()\n",
    "week_station['Net']=week_station['ENTRIES']-week_station['EXITS']\n",
    "week_station['Total']=week_station['ENTRIES']+week_station['EXITS']"
   ]
  },
  {
   "cell_type": "code",
   "execution_count": 23,
   "id": "d09e02b5",
   "metadata": {},
   "outputs": [
    {
     "data": {
      "text/plain": [
       "<AxesSubplot:title={'center':'ratio'}, xlabel='Year'>"
      ]
     },
     "execution_count": 23,
     "metadata": {},
     "output_type": "execute_result"
    },
    {
     "data": {
      "image/png": "[encoded data removed]",
      "text/plain": [
       "<Figure size 432x288 with 1 Axes>"
      ]
     },
     "metadata": {
      "needs_background": "light"
     },
     "output_type": "display_data"
    }
   ],
   "source": [
    "week_station['ratio']=week_station['ENTRIES']/week_station['Total']\n",
    "week_station.boxplot(column=['ratio'],by='Year')"
   ]
  },
  {
   "cell_type": "code",
   "execution_count": 24,
   "id": "2ada4492",
   "metadata": {},
   "outputs": [],
   "source": [
    "week_station_2020=week_station[ week_station['Year']==2020]"
   ]
  },
  {
   "cell_type": "markdown",
   "id": "f527b1fe",
   "metadata": {},
   "source": [
    "We will seperate out the data in year 2020, then merge the dataframe with the original one\n",
    "so we can compare the data in other years with data in 2020."
   ]
  },
  {
   "cell_type": "code",
   "execution_count": 25,
   "id": "ae2a70c9",
   "metadata": {},
   "outputs": [],
   "source": [
    "week_station = pd.merge(week_station,week_station_2020,on=['UNIT'])\n",
    "week_station['ratio_diff']=week_station['ratio_x'] - week_station['ratio_y']"
   ]
  },
  {
   "cell_type": "code",
   "execution_count": 26,
   "id": "d4509703",
   "metadata": {},
   "outputs": [
    {
     "data": {
      "text/html": [
       "<div>\n",
       "<style scoped>\n",
       "    .dataframe tbody tr th:only-of-type {\n",
       "        vertical-align: middle;\n",
       "    }\n",
       "\n",
       "    .dataframe tbody tr th {\n",
       "        vertical-align: top;\n",
       "    }\n",
       "\n",
       "    .dataframe thead th {\n",
       "        text-align: right;\n",
       "    }\n",
       "</style>\n",
       "<table border=\"1\" class=\"dataframe\">\n",
       "  <thead>\n",
       "    <tr style=\"text-align: right;\">\n",
       "      <th></th>\n",
       "      <th>Year_x</th>\n",
       "      <th>ENTRIES_x</th>\n",
       "      <th>EXITS_x</th>\n",
       "      <th>Net_x</th>\n",
       "      <th>Total_x</th>\n",
       "      <th>ratio_x</th>\n",
       "      <th>Year_y</th>\n",
       "      <th>ENTRIES_y</th>\n",
       "      <th>EXITS_y</th>\n",
       "      <th>Net_y</th>\n",
       "      <th>Total_y</th>\n",
       "      <th>ratio_y</th>\n",
       "      <th>ratio_diff</th>\n",
       "    </tr>\n",
       "  </thead>\n",
       "  <tbody>\n",
       "    <tr>\n",
       "      <th>count</th>\n",
       "      <td>469.0</td>\n",
       "      <td>469.000</td>\n",
       "      <td>469.000</td>\n",
       "      <td>469.000</td>\n",
       "      <td>4.690e+02</td>\n",
       "      <td>469.000</td>\n",
       "      <td>469.0</td>\n",
       "      <td>469.000</td>\n",
       "      <td>469.000</td>\n",
       "      <td>469.000</td>\n",
       "      <td>469.000</td>\n",
       "      <td>469.000</td>\n",
       "      <td>469.000</td>\n",
       "    </tr>\n",
       "    <tr>\n",
       "      <th>mean</th>\n",
       "      <td>2019.0</td>\n",
       "      <td>75760.742</td>\n",
       "      <td>60243.386</td>\n",
       "      <td>15517.356</td>\n",
       "      <td>1.360e+05</td>\n",
       "      <td>0.589</td>\n",
       "      <td>2020.0</td>\n",
       "      <td>11148.186</td>\n",
       "      <td>11613.064</td>\n",
       "      <td>-464.878</td>\n",
       "      <td>22761.249</td>\n",
       "      <td>0.509</td>\n",
       "      <td>0.080</td>\n",
       "    </tr>\n",
       "    <tr>\n",
       "      <th>std</th>\n",
       "      <td>0.0</td>\n",
       "      <td>80094.225</td>\n",
       "      <td>73913.605</td>\n",
       "      <td>22897.676</td>\n",
       "      <td>1.524e+05</td>\n",
       "      <td>0.112</td>\n",
       "      <td>0.0</td>\n",
       "      <td>9749.397</td>\n",
       "      <td>11236.185</td>\n",
       "      <td>3757.973</td>\n",
       "      <td>20699.827</td>\n",
       "      <td>0.110</td>\n",
       "      <td>0.063</td>\n",
       "    </tr>\n",
       "    <tr>\n",
       "      <th>min</th>\n",
       "      <td>2019.0</td>\n",
       "      <td>475.000</td>\n",
       "      <td>0.000</td>\n",
       "      <td>-95682.000</td>\n",
       "      <td>5.490e+02</td>\n",
       "      <td>0.248</td>\n",
       "      <td>2020.0</td>\n",
       "      <td>0.000</td>\n",
       "      <td>0.000</td>\n",
       "      <td>-17395.000</td>\n",
       "      <td>2.000</td>\n",
       "      <td>0.000</td>\n",
       "      <td>-0.143</td>\n",
       "    </tr>\n",
       "    <tr>\n",
       "      <th>25%</th>\n",
       "      <td>2019.0</td>\n",
       "      <td>26913.000</td>\n",
       "      <td>16418.000</td>\n",
       "      <td>908.000</td>\n",
       "      <td>4.369e+04</td>\n",
       "      <td>0.507</td>\n",
       "      <td>2020.0</td>\n",
       "      <td>5176.000</td>\n",
       "      <td>4398.000</td>\n",
       "      <td>-2223.000</td>\n",
       "      <td>9826.000</td>\n",
       "      <td>0.439</td>\n",
       "      <td>0.048</td>\n",
       "    </tr>\n",
       "    <tr>\n",
       "      <th>50%</th>\n",
       "      <td>2019.0</td>\n",
       "      <td>46595.000</td>\n",
       "      <td>33508.000</td>\n",
       "      <td>10138.000</td>\n",
       "      <td>7.789e+04</td>\n",
       "      <td>0.563</td>\n",
       "      <td>2020.0</td>\n",
       "      <td>8002.000</td>\n",
       "      <td>7793.000</td>\n",
       "      <td>-420.000</td>\n",
       "      <td>15901.000</td>\n",
       "      <td>0.486</td>\n",
       "      <td>0.077</td>\n",
       "    </tr>\n",
       "    <tr>\n",
       "      <th>75%</th>\n",
       "      <td>2019.0</td>\n",
       "      <td>97838.000</td>\n",
       "      <td>73684.000</td>\n",
       "      <td>25327.000</td>\n",
       "      <td>1.643e+05</td>\n",
       "      <td>0.653</td>\n",
       "      <td>2020.0</td>\n",
       "      <td>13744.000</td>\n",
       "      <td>14677.000</td>\n",
       "      <td>1535.000</td>\n",
       "      <td>27558.000</td>\n",
       "      <td>0.553</td>\n",
       "      <td>0.102</td>\n",
       "    </tr>\n",
       "    <tr>\n",
       "      <th>max</th>\n",
       "      <td>2019.0</td>\n",
       "      <td>622414.000</td>\n",
       "      <td>578091.000</td>\n",
       "      <td>124301.000</td>\n",
       "      <td>1.201e+06</td>\n",
       "      <td>1.000</td>\n",
       "      <td>2020.0</td>\n",
       "      <td>70446.000</td>\n",
       "      <td>80983.000</td>\n",
       "      <td>11693.000</td>\n",
       "      <td>147321.000</td>\n",
       "      <td>1.000</td>\n",
       "      <td>0.865</td>\n",
       "    </tr>\n",
       "  </tbody>\n",
       "</table>\n",
       "</div>"
      ],
      "text/plain": [
       "       Year_x   ENTRIES_x     EXITS_x       Net_x    Total_x  ratio_x  Year_y  \\\n",
       "count   469.0     469.000     469.000     469.000  4.690e+02  469.000   469.0   \n",
       "mean   2019.0   75760.742   60243.386   15517.356  1.360e+05    0.589  2020.0   \n",
       "std       0.0   80094.225   73913.605   22897.676  1.524e+05    0.112     0.0   \n",
       "min    2019.0     475.000       0.000  -95682.000  5.490e+02    0.248  2020.0   \n",
       "25%    2019.0   26913.000   16418.000     908.000  4.369e+04    0.507  2020.0   \n",
       "50%    2019.0   46595.000   33508.000   10138.000  7.789e+04    0.563  2020.0   \n",
       "75%    2019.0   97838.000   73684.000   25327.000  1.643e+05    0.653  2020.0   \n",
       "max    2019.0  622414.000  578091.000  124301.000  1.201e+06    1.000  2020.0   \n",
       "\n",
       "       ENTRIES_y    EXITS_y      Net_y     Total_y  ratio_y  ratio_diff  \n",
       "count    469.000    469.000    469.000     469.000  469.000     469.000  \n",
       "mean   11148.186  11613.064   -464.878   22761.249    0.509       0.080  \n",
       "std     9749.397  11236.185   3757.973   20699.827    0.110       0.063  \n",
       "min        0.000      0.000 -17395.000       2.000    0.000      -0.143  \n",
       "25%     5176.000   4398.000  -2223.000    9826.000    0.439       0.048  \n",
       "50%     8002.000   7793.000   -420.000   15901.000    0.486       0.077  \n",
       "75%    13744.000  14677.000   1535.000   27558.000    0.553       0.102  \n",
       "max    70446.000  80983.000  11693.000  147321.000    1.000       0.865  "
      ]
     },
     "execution_count": 26,
     "metadata": {},
     "output_type": "execute_result"
    }
   ],
   "source": [
    "result_2019=week_station[week_station['Year_x']==2019].copy()\n",
    "result_2019['ratio_diff']=result_2019['ratio_x']-result_2019['ratio_y']\n",
    "result_2019.describe()"
   ]
  },
  {
   "cell_type": "markdown",
   "id": "1c7fb4ad",
   "metadata": {},
   "source": [
    "We then look at the change in the ratio across the stations. We can see many stations are seeing the shift in rations. About 50% of the stations, are seeing a change anywhere from 5% to 10% change. We will next try to examine the change in net traffic terms, rather than in ratio terms. "
   ]
  },
  {
   "cell_type": "code",
   "execution_count": 27,
   "id": "9319b18a",
   "metadata": {},
   "outputs": [
    {
     "data": {
      "text/plain": [
       "<AxesSubplot:>"
      ]
     },
     "execution_count": 27,
     "metadata": {},
     "output_type": "execute_result"
    },
    {
     "data": {
      "image/png": "[encoded data removed]",
      "text/plain": [
       "<Figure size 432x288 with 1 Axes>"
      ]
     },
     "metadata": {
      "needs_background": "light"
     },
     "output_type": "display_data"
    }
   ],
   "source": [
    "result_2019.boxplot(column=['ratio_diff'])"
   ]
  },
  {
   "cell_type": "code",
   "execution_count": 28,
   "id": "e36da0d1",
   "metadata": {},
   "outputs": [],
   "source": [
    "result_2019['Net_diff']=result_2019['Net_x']-result_2019['Net_y']"
   ]
  },
  {
   "cell_type": "code",
   "execution_count": 29,
   "id": "1a6922ad",
   "metadata": {},
   "outputs": [
    {
     "data": {
      "text/html": [
       "<div>\n",
       "<style scoped>\n",
       "    .dataframe tbody tr th:only-of-type {\n",
       "        vertical-align: middle;\n",
       "    }\n",
       "\n",
       "    .dataframe tbody tr th {\n",
       "        vertical-align: top;\n",
       "    }\n",
       "\n",
       "    .dataframe thead th {\n",
       "        text-align: right;\n",
       "    }\n",
       "</style>\n",
       "<table border=\"1\" class=\"dataframe\">\n",
       "  <thead>\n",
       "    <tr style=\"text-align: right;\">\n",
       "      <th></th>\n",
       "      <th>Year_x</th>\n",
       "      <th>ENTRIES_x</th>\n",
       "      <th>EXITS_x</th>\n",
       "      <th>Net_x</th>\n",
       "      <th>Total_x</th>\n",
       "      <th>ratio_x</th>\n",
       "      <th>Year_y</th>\n",
       "      <th>ENTRIES_y</th>\n",
       "      <th>EXITS_y</th>\n",
       "      <th>Net_y</th>\n",
       "      <th>Total_y</th>\n",
       "      <th>ratio_y</th>\n",
       "      <th>ratio_diff</th>\n",
       "      <th>Net_diff</th>\n",
       "    </tr>\n",
       "  </thead>\n",
       "  <tbody>\n",
       "    <tr>\n",
       "      <th>count</th>\n",
       "      <td>469.0</td>\n",
       "      <td>469.000</td>\n",
       "      <td>469.000</td>\n",
       "      <td>469.000</td>\n",
       "      <td>4.690e+02</td>\n",
       "      <td>469.000</td>\n",
       "      <td>469.0</td>\n",
       "      <td>469.000</td>\n",
       "      <td>469.000</td>\n",
       "      <td>469.000</td>\n",
       "      <td>469.000</td>\n",
       "      <td>469.000</td>\n",
       "      <td>469.000</td>\n",
       "      <td>469.000</td>\n",
       "    </tr>\n",
       "    <tr>\n",
       "      <th>mean</th>\n",
       "      <td>2019.0</td>\n",
       "      <td>75760.742</td>\n",
       "      <td>60243.386</td>\n",
       "      <td>15517.356</td>\n",
       "      <td>1.360e+05</td>\n",
       "      <td>0.589</td>\n",
       "      <td>2020.0</td>\n",
       "      <td>11148.186</td>\n",
       "      <td>11613.064</td>\n",
       "      <td>-464.878</td>\n",
       "      <td>22761.249</td>\n",
       "      <td>0.509</td>\n",
       "      <td>0.080</td>\n",
       "      <td>15982.235</td>\n",
       "    </tr>\n",
       "    <tr>\n",
       "      <th>std</th>\n",
       "      <td>0.0</td>\n",
       "      <td>80094.225</td>\n",
       "      <td>73913.605</td>\n",
       "      <td>22897.676</td>\n",
       "      <td>1.524e+05</td>\n",
       "      <td>0.112</td>\n",
       "      <td>0.0</td>\n",
       "      <td>9749.397</td>\n",
       "      <td>11236.185</td>\n",
       "      <td>3757.973</td>\n",
       "      <td>20699.827</td>\n",
       "      <td>0.110</td>\n",
       "      <td>0.063</td>\n",
       "      <td>21334.768</td>\n",
       "    </tr>\n",
       "    <tr>\n",
       "      <th>min</th>\n",
       "      <td>2019.0</td>\n",
       "      <td>475.000</td>\n",
       "      <td>0.000</td>\n",
       "      <td>-95682.000</td>\n",
       "      <td>5.490e+02</td>\n",
       "      <td>0.248</td>\n",
       "      <td>2020.0</td>\n",
       "      <td>0.000</td>\n",
       "      <td>0.000</td>\n",
       "      <td>-17395.000</td>\n",
       "      <td>2.000</td>\n",
       "      <td>0.000</td>\n",
       "      <td>-0.143</td>\n",
       "      <td>-85254.000</td>\n",
       "    </tr>\n",
       "    <tr>\n",
       "      <th>25%</th>\n",
       "      <td>2019.0</td>\n",
       "      <td>26913.000</td>\n",
       "      <td>16418.000</td>\n",
       "      <td>908.000</td>\n",
       "      <td>4.369e+04</td>\n",
       "      <td>0.507</td>\n",
       "      <td>2020.0</td>\n",
       "      <td>5176.000</td>\n",
       "      <td>4398.000</td>\n",
       "      <td>-2223.000</td>\n",
       "      <td>9826.000</td>\n",
       "      <td>0.439</td>\n",
       "      <td>0.048</td>\n",
       "      <td>2633.000</td>\n",
       "    </tr>\n",
       "    <tr>\n",
       "      <th>50%</th>\n",
       "      <td>2019.0</td>\n",
       "      <td>46595.000</td>\n",
       "      <td>33508.000</td>\n",
       "      <td>10138.000</td>\n",
       "      <td>7.789e+04</td>\n",
       "      <td>0.563</td>\n",
       "      <td>2020.0</td>\n",
       "      <td>8002.000</td>\n",
       "      <td>7793.000</td>\n",
       "      <td>-420.000</td>\n",
       "      <td>15901.000</td>\n",
       "      <td>0.486</td>\n",
       "      <td>0.077</td>\n",
       "      <td>10094.000</td>\n",
       "    </tr>\n",
       "    <tr>\n",
       "      <th>75%</th>\n",
       "      <td>2019.0</td>\n",
       "      <td>97838.000</td>\n",
       "      <td>73684.000</td>\n",
       "      <td>25327.000</td>\n",
       "      <td>1.643e+05</td>\n",
       "      <td>0.653</td>\n",
       "      <td>2020.0</td>\n",
       "      <td>13744.000</td>\n",
       "      <td>14677.000</td>\n",
       "      <td>1535.000</td>\n",
       "      <td>27558.000</td>\n",
       "      <td>0.553</td>\n",
       "      <td>0.102</td>\n",
       "      <td>24429.000</td>\n",
       "    </tr>\n",
       "    <tr>\n",
       "      <th>max</th>\n",
       "      <td>2019.0</td>\n",
       "      <td>622414.000</td>\n",
       "      <td>578091.000</td>\n",
       "      <td>124301.000</td>\n",
       "      <td>1.201e+06</td>\n",
       "      <td>1.000</td>\n",
       "      <td>2020.0</td>\n",
       "      <td>70446.000</td>\n",
       "      <td>80983.000</td>\n",
       "      <td>11693.000</td>\n",
       "      <td>147321.000</td>\n",
       "      <td>1.000</td>\n",
       "      <td>0.865</td>\n",
       "      <td>124117.000</td>\n",
       "    </tr>\n",
       "  </tbody>\n",
       "</table>\n",
       "</div>"
      ],
      "text/plain": [
       "       Year_x   ENTRIES_x     EXITS_x       Net_x    Total_x  ratio_x  Year_y  \\\n",
       "count   469.0     469.000     469.000     469.000  4.690e+02  469.000   469.0   \n",
       "mean   2019.0   75760.742   60243.386   15517.356  1.360e+05    0.589  2020.0   \n",
       "std       0.0   80094.225   73913.605   22897.676  1.524e+05    0.112     0.0   \n",
       "min    2019.0     475.000       0.000  -95682.000  5.490e+02    0.248  2020.0   \n",
       "25%    2019.0   26913.000   16418.000     908.000  4.369e+04    0.507  2020.0   \n",
       "50%    2019.0   46595.000   33508.000   10138.000  7.789e+04    0.563  2020.0   \n",
       "75%    2019.0   97838.000   73684.000   25327.000  1.643e+05    0.653  2020.0   \n",
       "max    2019.0  622414.000  578091.000  124301.000  1.201e+06    1.000  2020.0   \n",
       "\n",
       "       ENTRIES_y    EXITS_y      Net_y     Total_y  ratio_y  ratio_diff  \\\n",
       "count    469.000    469.000    469.000     469.000  469.000     469.000   \n",
       "mean   11148.186  11613.064   -464.878   22761.249    0.509       0.080   \n",
       "std     9749.397  11236.185   3757.973   20699.827    0.110       0.063   \n",
       "min        0.000      0.000 -17395.000       2.000    0.000      -0.143   \n",
       "25%     5176.000   4398.000  -2223.000    9826.000    0.439       0.048   \n",
       "50%     8002.000   7793.000   -420.000   15901.000    0.486       0.077   \n",
       "75%    13744.000  14677.000   1535.000   27558.000    0.553       0.102   \n",
       "max    70446.000  80983.000  11693.000  147321.000    1.000       0.865   \n",
       "\n",
       "         Net_diff  \n",
       "count     469.000  \n",
       "mean    15982.235  \n",
       "std     21334.768  \n",
       "min    -85254.000  \n",
       "25%      2633.000  \n",
       "50%     10094.000  \n",
       "75%     24429.000  \n",
       "max    124117.000  "
      ]
     },
     "execution_count": 29,
     "metadata": {},
     "output_type": "execute_result"
    }
   ],
   "source": [
    "result_2019.describe()"
   ]
  },
  {
   "cell_type": "markdown",
   "id": "dd947985",
   "metadata": {},
   "source": [
    "We know check the change in net traffic flow in 2019 compared to 2020."
   ]
  },
  {
   "cell_type": "code",
   "execution_count": 30,
   "id": "b862193c",
   "metadata": {},
   "outputs": [
    {
     "data": {
      "text/plain": [
       "7277640.0"
      ]
     },
     "execution_count": 30,
     "metadata": {},
     "output_type": "execute_result"
    }
   ],
   "source": [
    "week_station[week_station['Year_x']==2019].Net_x.sum()"
   ]
  },
  {
   "cell_type": "code",
   "execution_count": 31,
   "id": "0783b25c",
   "metadata": {},
   "outputs": [
    {
     "data": {
      "text/plain": [
       "-219788.0"
      ]
     },
     "execution_count": 31,
     "metadata": {},
     "output_type": "execute_result"
    }
   ],
   "source": [
    "week_station[week_station['Year_x']==2020].Net_x.sum()"
   ]
  },
  {
   "cell_type": "markdown",
   "id": "507ed49e",
   "metadata": {},
   "source": [
    "We then sum up the change of net traffic, and it is 7.5 million, across 470 stations."
   ]
  },
  {
   "cell_type": "code",
   "execution_count": 32,
   "id": "b3833ed7",
   "metadata": {},
   "outputs": [
    {
     "data": {
      "text/plain": [
       "7495668.0"
      ]
     },
     "execution_count": 32,
     "metadata": {},
     "output_type": "execute_result"
    }
   ],
   "source": [
    "result_2019.Net_diff.sum()"
   ]
  },
  {
   "cell_type": "code",
   "execution_count": 33,
   "id": "0a88957a",
   "metadata": {},
   "outputs": [
    {
     "data": {
      "text/plain": [
       "469"
      ]
     },
     "execution_count": 33,
     "metadata": {},
     "output_type": "execute_result"
    }
   ],
   "source": [
    "len(result_2019)"
   ]
  },
  {
   "cell_type": "markdown",
   "id": "fc65afb7",
   "metadata": {},
   "source": [
    "We check the sum of the stations with most changes from 400 to 470, it is 3.8 million."
   ]
  },
  {
   "cell_type": "code",
   "execution_count": 34,
   "id": "0ada706d",
   "metadata": {},
   "outputs": [
    {
     "data": {
      "text/plain": [
       "3824534.0"
      ]
     },
     "execution_count": 34,
     "metadata": {},
     "output_type": "execute_result"
    }
   ],
   "source": [
    "result_2019.Net_diff.sort_values()[400:].sum()"
   ]
  },
  {
   "cell_type": "markdown",
   "id": "124c788d",
   "metadata": {},
   "source": [
    "We check the sum of the stations 0 to 400, it is 3.8 million."
   ]
  },
  {
   "cell_type": "code",
   "execution_count": 35,
   "id": "72f3bd29",
   "metadata": {},
   "outputs": [
    {
     "data": {
      "text/plain": [
       "3671134.0"
      ]
     },
     "execution_count": 35,
     "metadata": {},
     "output_type": "execute_result"
    }
   ],
   "source": [
    "result_2019.Net_diff.sort_values()[0:400].sum()"
   ]
  },
  {
   "cell_type": "markdown",
   "id": "24e34d6e",
   "metadata": {},
   "source": [
    "We then get a list of statons and see which statons have the msot changes."
   ]
  },
  {
   "cell_type": "code",
   "execution_count": 36,
   "id": "fdc0db60",
   "metadata": {},
   "outputs": [
    {
     "data": {
      "text/plain": [
       "4        35406.0\n",
       "1428     35500.0\n",
       "1936     37083.0\n",
       "1268     37333.0\n",
       "2183     37360.0\n",
       "          ...   \n",
       "144      83168.0\n",
       "88       90743.0\n",
       "67      107283.0\n",
       "74      114477.0\n",
       "214     124117.0\n",
       "Name: Net_diff, Length: 69, dtype: float64"
      ]
     },
     "execution_count": 36,
     "metadata": {},
     "output_type": "execute_result"
    }
   ],
   "source": [
    "result_2019.Net_diff.sort_values()[400:]"
   ]
  },
  {
   "cell_type": "code",
   "execution_count": 37,
   "id": "c125d183",
   "metadata": {},
   "outputs": [
    {
     "data": {
      "text/plain": [
       "'R033'"
      ]
     },
     "execution_count": 37,
     "metadata": {},
     "output_type": "execute_result"
    }
   ],
   "source": [
    "result_2019.loc[214,'UNIT']"
   ]
  },
  {
   "cell_type": "code",
   "execution_count": 38,
   "id": "b59c944b",
   "metadata": {},
   "outputs": [
    {
     "data": {
      "text/plain": [
       "'R012'"
      ]
     },
     "execution_count": 38,
     "metadata": {},
     "output_type": "execute_result"
    }
   ],
   "source": [
    "result_2019.loc[74,'UNIT']"
   ]
  },
  {
   "cell_type": "markdown",
   "id": "26f477fe",
   "metadata": {},
   "source": [
    "From the table we see R033 station is \"42 ST-TIMES SQ\", Time Square station, and\n",
    "and R012 is \"34 ST-PENN STA\", The train Station Penn Station."
   ]
  }
 ],
 "metadata": {
  "kernelspec": {
   "display_name": "Python [conda env:metis] *",
   "language": "python",
   "name": "conda-env-metis-py"
  },
  "language_info": {
   "codemirror_mode": {
    "name": "ipython",
    "version": 3
   },
   "file_extension": ".py",
   "mimetype": "text/x-python",
   "name": "python",
   "nbconvert_exporter": "python",
   "pygments_lexer": "ipython3",
   "version": "3.8.10"
  }
 },
 "nbformat": 4,
 "nbformat_minor": 5
}
