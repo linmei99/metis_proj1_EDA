{
 "cells": [
  {
   "cell_type": "code",
   "execution_count": 45,
   "id": "0c9cea4f",
   "metadata": {},
   "outputs": [],
   "source": [
    "import numpy as np\n",
    "import pandas as pd\n",
    "\n",
    "import sqlite3\n",
    "from datetime import timedelta\n",
    "from sqlalchemy import create_engine\n",
    "import datetime\n",
    "import matplotlib.pyplot as plt\n",
    "import seaborn as sns\n",
    "\n",
    "pd.set_option('display.max_columns', None)\n",
    "pd.set_option('display.max_rows', 30)\n",
    "pd.set_option('display.precision', 3)\n",
    "\n",
    "MAX_INGRESS_P = 12000\n",
    "MAX_INGRESS_N = 1000\n",
    "MAX_EGRESS_P = 12000\n",
    "MAX_EGRESS_N = 1000\n",
    "\n",
    "#Always starts with a clean table to store python\n",
    "#data cleaning results \n",
    "def create_clean_table(table_name):\n",
    "    conn = sqlite3.connect('mta.db')\n",
    "\n",
    "    #Creating a cursor object using the cursor() method\n",
    "    cursor = conn.cursor()\n",
    "    cursor.execute('DROP TABLE IF EXISTS {};'.format(table_name))\n",
    "    conn.commit()\n",
    "    cursor.execute('''CREATE TABLE {}(\n",
    "    UNIT TEXT, SCP TEXT, CA TEXT, STATION TEXT,\n",
    "    LINENAME TEXT, ENTRIES INTEGER,EXITS INTEGER,\n",
    "    Year INTEGER, Week INTEGER,\n",
    "    PRIMARY KEY(UNIT,SCP,CA,STATION,LINENAME,Year,Week)\n",
    "    );'''.format(table_name))\n",
    "    conn.commit()\n",
    "    conn.close()\n",
    "    return\n",
    "\n",
    "def proj1_clean(datafile):\n",
    "    df=pd.read_csv(datafile,converters={'DATE':pd.to_datetime})\n",
    "    df.columns = [column.strip() for column in df.columns]\n",
    "    df['Ingress'] = df['ENTRIES'].diff()\n",
    "    df['Egress']= df.iloc[:,10].diff()\n",
    "    errcnt=[0]*7\n",
    "    max_row = len(df)  \n",
    "    \n",
    "    full_unit_name= df['UNIT'] + df['SCP']\n",
    "    full_unit1 = full_unit_name.shift(1)\n",
    "    \n",
    "    #boolean series indicates if current row is the same turnstile as previous row\n",
    "    same_unit = full_unit1.eq(full_unit_name)\n",
    "    df.iloc[0,11] = 0\n",
    "    df.iloc[0,12] = 0\n",
    " \n",
    "    # Set Ingress to 0 for any row when it is not the same unit as the result\n",
    "    # of diff() from above is only valid for rows belong to the same unit\n",
    "    df['Ingress'] = df['Ingress'] * same_unit  #element wise multiply with 1/0    \n",
    "    df['Egress'] = df['Egress'] * same_unit\n",
    "\n",
    "    # Set Ingress to -(Ingress) for any row if  Ingress  < 0 \n",
    "    # and the next row is also negative. This account for persistent counting down\n",
    "    # for counters installed incorrectly\n",
    "    smallN_Check = df['Ingress'] <= 0\n",
    "    shifted=smallN_Check.shift(-1)\n",
    "    shifted[max_row-1]=False\n",
    "    df['Ingress'] = (1-(smallN_Check & shifted) *2) * df['Ingress']\n",
    "    errcnt[0] = smallN_Check.sum()\n",
    "    \n",
    "    # Set Ingress to 0 for any row when it is > MAX_INGRESS_P    \n",
    "    Max_Check = df['Ingress'] < MAX_INGRESS_P\n",
    "    # Set Ingress to 0 for any row when it is < -MAX_INGRESS_N    \n",
    "    MaxN_Check = df['Ingress'] > -MAX_INGRESS_N\n",
    "    df['Ingress'] = df['Ingress'] * MaxN_Check * Max_Check  #element wise multiply with 1/0\n",
    "    saved_mask = MaxN_Check & Max_Check\n",
    "    errcnt[1] = max_row - Max_Check.sum()\n",
    "    errcnt[2] = max_row - MaxN_Check.sum()  \n",
    "\n",
    "    \n",
    "    # Set Egress to -(Engress) for any row when  Engress <0       \n",
    "    smallN_Check = df['Egress'] <= 0\n",
    "    shifted=smallN_Check.shift(-1)\n",
    "    shifted[max_row-1]=False\n",
    "    df['Egress'] = (1-(smallN_Check & shifted) *2) * df['Egress']  \n",
    "    errcnt[3] = smallN_Check.sum()\n",
    "    \n",
    "    # Set Egress to 0 for any row when it is > MAX_EGRESS_P    \n",
    "    Max_Check = df['Egress'] < MAX_EGRESS_P\n",
    "    # Set Engress to 0 for any row when it is < -MAX_EGRESS_N    \n",
    "    MaxN_Check = df['Egress'] > -MAX_EGRESS_N\n",
    "    df['Egress'] = df['Egress'] * MaxN_Check * Max_Check  #element wise multiply with 1/0\n",
    "    saved_mask = saved_mask & MaxN_Check & Max_Check\n",
    "    errcnt[4] = max_row - Max_Check.sum()\n",
    "    errcnt[5] = max_row - MaxN_Check.sum()\n",
    "    \n",
    "    #This includes all the main correction made to the Ingress/Egress data \n",
    "    df['Mask']=~saved_mask    \n",
    "#    df['Week']=df.DATE.dt.isocalendar().week\n",
    "#    df['DATE_TIME']=pd.to_datetime(df['DATE']+df['TIME'],format='%m/%d/%Y%H:%M:%S') \n",
    "    df['Net']=df['Ingress']-df['Egress'] \n",
    "    weekly=df.groupby(['UNIT','SCP','C/A','STATION','LINENAME'])[['Ingress','Egress']].sum().reset_index()\n",
    "    \n",
    "    #Add date to the weekly result \n",
    "    weekly['Year']=year=df.loc[0,'DATE'].isocalendar()[0]\n",
    "    weekly['Week']=week=df.loc[0,'DATE'].isocalendar()[1]\n",
    "    return errcnt,df,weekly"
   ]
  },
  {
   "cell_type": "code",
   "execution_count": 4,
   "id": "dbdfc88a",
   "metadata": {},
   "outputs": [],
   "source": [
    "datafiles=['210612','210313','201205','200912','200613','200307','191207','190615','181208','180609','170610','160611','150613']\n",
    "for name in datafiles:\n",
    "    datafile='http://web.mta.info/developers/data/nyct/turnstile/turnstile_{}.txt'.format(name)\n",
    "    errcnt,df,w1=proj1_clean(datafile)\n",
    "    print(errcnt)\n",
    "    w1.to_csv('mta{}_{}.csv'.format(w1.loc[0,'Year'],w1.loc[0,'Week']),\n",
    "              header=False,index=False)"
   ]
  },
  {
   "cell_type": "code",
   "execution_count": 76,
   "id": "308e3a23",
   "metadata": {
    "scrolled": true
   },
   "outputs": [],
   "source": [
    "#!echo \"UNIT,SCP,CA,STATION,LINENAME,ENTRIES,EXITS,Year,Week\" >mta0.csv\n",
    "!rm mta.csv\n",
    "!cat *.csv >> mta.csv\n",
    "create_clean_table('mta_station')\n",
    "#import mta.csv into table mta_station using sqlite3 i.e.\n",
    "#.move csv\n",
    "#.import mta.csv mta_station\n",
    "#week=pd.read_csv('mta.csv')"
   ]
  },
  {
   "cell_type": "markdown",
   "id": "3e42cd8f",
   "metadata": {},
   "source": [
    "First we need to process the raw data and save the per week data into the database. Here we read the finished data out of database."
   ]
  },
  {
   "cell_type": "code",
   "execution_count": 63,
   "id": "c76f809b",
   "metadata": {},
   "outputs": [],
   "source": [
    "from sqlalchemy import create_engine\n",
    "import matplotlib.pyplot as plt\n",
    "import seaborn as sns\n",
    "import numpy as np\n",
    "import pandas as pd\n",
    "\n",
    "engine = create_engine(\"sqlite:///mta.db\")"
   ]
  },
  {
   "cell_type": "code",
   "execution_count": 5,
   "id": "51652ab8",
   "metadata": {},
   "outputs": [],
   "source": [
    "mta_week=pd.read_sql('''SELECT Year, SUM(ENTRIES) Ent, SUM(EXITS) Ext \n",
    "FROM mta_station WHERE Week between 20 AND 25 GROUP BY Year;'''\n",
    "    , engine)"
   ]
  },
  {
   "cell_type": "code",
   "execution_count": 6,
   "id": "1a87643e",
   "metadata": {},
   "outputs": [],
   "source": [
    "mta_week['Net']=mta_week['Ent']-mta_week['Ext']\n",
    "mta_week['Total']=mta_week['Ent']+mta_week['Ext']"
   ]
  },
  {
   "cell_type": "markdown",
   "id": "a85da386",
   "metadata": {},
   "source": [
    "From this Figure, total subway ridership per week dropped from around 60 millions pre-COVID, to 15 million per week at worst, and has sinced recovered to near 30 millions per week.\n",
    "One point to note is that, entries used to be larger than exits by a large margin, and this trend ahs reversed post COVID.\n",
    "In figure 2, we can see entries used to be about 56% of total traffic, while exits only account for 44% total traffic. This is been reversed post COVID."
   ]
  },
  {
   "cell_type": "code",
   "execution_count": 32,
   "id": "b16aea75",
   "metadata": {},
   "outputs": [
    {
     "data": {
      "image/png": "[encoded data removed]",
      "text/plain": [
       "<Figure size 864x432 with 2 Axes>"
      ]
     },
     "metadata": {
      "needs_background": "light"
     },
     "output_type": "display_data"
    }
   ],
   "source": [
    "plt.figure(figsize=[12,6])\n",
    "plt.subplot(1,2,1)\n",
    "plt.title('Total traffic before and after COVID')\n",
    "plt.plot(mta_week.Year,mta_week.Total,label='Total')\n",
    "plt.plot(mta_week.Year,mta_week.Ent,label='Entries')\n",
    "plt.plot(mta_week.Year,mta_week.Ext,label='Exits')\n",
    "plt.plot(mta_week.Year,mta_week.Net,label='Net')\n",
    "plt.xlabel('Year')\n",
    "plt.grid()\n",
    "plt.legend()\n",
    "plt.subplot(1,2,2)\n",
    "plt.plot(mta_week.Year,mta_week.Ent/mta_week.Total * 100,label='Entries')\n",
    "plt.plot(mta_week.Year,mta_week.Ext/mta_week.Total * 100,label='Exits')\n",
    "plt.title('Entries as a percentage of total traffic')\n",
    "plt.xlabel('Year');\n",
    "plt.grid()\n",
    "plt.savefig('total.png',dpi=150,transparent=False)\n"
   ]
  },
  {
   "cell_type": "code",
   "execution_count": 82,
   "id": "3adeb7cc",
   "metadata": {},
   "outputs": [],
   "source": [
    "mta_week=pd.read_sql('''SELECT Year, Week, SUM(ENTRIES) Ent, SUM(EXITS) Ext \n",
    "FROM mta_station \n",
    "WHERE Year >= 2019\n",
    "GROUP BY Year,Week;''', engine)"
   ]
  },
  {
   "cell_type": "code",
   "execution_count": 87,
   "id": "4b4247f3",
   "metadata": {},
   "outputs": [
    {
     "data": {
      "text/html": [
       "<div>\n",
       "<style scoped>\n",
       "    .dataframe tbody tr th:only-of-type {\n",
       "        vertical-align: middle;\n",
       "    }\n",
       "\n",
       "    .dataframe tbody tr th {\n",
       "        vertical-align: top;\n",
       "    }\n",
       "\n",
       "    .dataframe thead th {\n",
       "        text-align: right;\n",
       "    }\n",
       "</style>\n",
       "<table border=\"1\" class=\"dataframe\">\n",
       "  <thead>\n",
       "    <tr style=\"text-align: right;\">\n",
       "      <th></th>\n",
       "      <th>Year</th>\n",
       "      <th>WEEK</th>\n",
       "      <th>Ent</th>\n",
       "      <th>Ext</th>\n",
       "      <th>Net</th>\n",
       "      <th>Total</th>\n",
       "    </tr>\n",
       "  </thead>\n",
       "  <tbody>\n",
       "    <tr>\n",
       "      <th>0</th>\n",
       "      <td>2019</td>\n",
       "      <td>23</td>\n",
       "      <td>35531788</td>\n",
       "      <td>28254148</td>\n",
       "      <td>7277640</td>\n",
       "      <td>63785936</td>\n",
       "    </tr>\n",
       "    <tr>\n",
       "      <th>1</th>\n",
       "      <td>2019</td>\n",
       "      <td>48</td>\n",
       "      <td>35526111</td>\n",
       "      <td>28432868</td>\n",
       "      <td>7093243</td>\n",
       "      <td>63958979</td>\n",
       "    </tr>\n",
       "    <tr>\n",
       "      <th>2</th>\n",
       "      <td>2020</td>\n",
       "      <td>9</td>\n",
       "      <td>33082525</td>\n",
       "      <td>27164893</td>\n",
       "      <td>5917632</td>\n",
       "      <td>60247418</td>\n",
       "    </tr>\n",
       "    <tr>\n",
       "      <th>3</th>\n",
       "      <td>2020</td>\n",
       "      <td>23</td>\n",
       "      <td>5236345</td>\n",
       "      <td>5456133</td>\n",
       "      <td>-219788</td>\n",
       "      <td>10692478</td>\n",
       "    </tr>\n",
       "    <tr>\n",
       "      <th>4</th>\n",
       "      <td>2020</td>\n",
       "      <td>36</td>\n",
       "      <td>8960336</td>\n",
       "      <td>9175020</td>\n",
       "      <td>-214684</td>\n",
       "      <td>18135356</td>\n",
       "    </tr>\n",
       "    <tr>\n",
       "      <th>5</th>\n",
       "      <td>2020</td>\n",
       "      <td>48</td>\n",
       "      <td>9729892</td>\n",
       "      <td>10003448</td>\n",
       "      <td>-273556</td>\n",
       "      <td>19733340</td>\n",
       "    </tr>\n",
       "    <tr>\n",
       "      <th>6</th>\n",
       "      <td>2021</td>\n",
       "      <td>9</td>\n",
       "      <td>10208213</td>\n",
       "      <td>10936083</td>\n",
       "      <td>-727870</td>\n",
       "      <td>21144296</td>\n",
       "    </tr>\n",
       "    <tr>\n",
       "      <th>7</th>\n",
       "      <td>2021</td>\n",
       "      <td>22</td>\n",
       "      <td>12696031</td>\n",
       "      <td>14205228</td>\n",
       "      <td>-1509197</td>\n",
       "      <td>26901259</td>\n",
       "    </tr>\n",
       "  </tbody>\n",
       "</table>\n",
       "</div>"
      ],
      "text/plain": [
       "   Year  WEEK       Ent       Ext      Net     Total\n",
       "0  2019    23  35531788  28254148  7277640  63785936\n",
       "1  2019    48  35526111  28432868  7093243  63958979\n",
       "2  2020     9  33082525  27164893  5917632  60247418\n",
       "3  2020    23   5236345   5456133  -219788  10692478\n",
       "4  2020    36   8960336   9175020  -214684  18135356\n",
       "5  2020    48   9729892  10003448  -273556  19733340\n",
       "6  2021     9  10208213  10936083  -727870  21144296\n",
       "7  2021    22  12696031  14205228 -1509197  26901259"
      ]
     },
     "execution_count": 87,
     "metadata": {},
     "output_type": "execute_result"
    }
   ],
   "source": [
    "mta_week"
   ]
  },
  {
   "cell_type": "code",
   "execution_count": 84,
   "id": "9353f134",
   "metadata": {},
   "outputs": [],
   "source": [
    "mta_week['Net']=mta_week['Ent']-mta_week['Ext']\n",
    "mta_week['Total']=mta_week['Ent']+mta_week['Ext']\n",
    "#mta_week['Date']=mta_week.Year*56+mta_week.WeeK"
   ]
  },
  {
   "cell_type": "code",
   "execution_count": 92,
   "id": "c88466a6",
   "metadata": {},
   "outputs": [
    {
     "data": {
      "image/png": "[encoded data removed]",
      "text/plain": [
       "<Figure size 864x432 with 2 Axes>"
      ]
     },
     "metadata": {
      "needs_background": "light"
     },
     "output_type": "display_data"
    }
   ],
   "source": [
    "plt.figure(figsize=[12,6])\n",
    "x=np.arange(0,8)\n",
    "plt.subplot(1,2,1)\n",
    "plt.title('Total traffic before and after COVID')\n",
    "plt.plot(x,mta_week.Total,label='Total')\n",
    "plt.plot(x,mta_week.Ent,label='Entries')\n",
    "plt.plot(x,mta_week.Ext,label='Exits')\n",
    "plt.plot(x,mta_week.Net,label='Net')\n",
    "plt.xticks(x,['Jun. 2019','Dec. 2019','Mar. 2020','Jun. 2020','Sep. 2020',\n",
    "              'Dec. 2020','Mar. 2021','Jun. 2021'],rotation=45)\n",
    "plt.xlabel('Date')\n",
    "plt.grid()\n",
    "plt.legend()\n",
    "plt.subplot(1,2,2)\n",
    "plt.plot(x,mta_week.Ent/mta_week.Total * 100,label='Entries')\n",
    "plt.plot(x,mta_week.Ext/mta_week.Total * 100,label='Exits')\n",
    "plt.title('Entries as a percentage of total traffic')\n",
    "plt.xlabel('Date');\n",
    "plt.xticks(x,['Jun. 2019','Dec. 2019','Mar. 2020','Jun. 2020','Sep. 2020',\n",
    "              'Dec. 2020','Mar. 2021','Jun. 2021'],rotation=45)\n",
    "plt.grid()\n",
    "plt.savefig('total1.png',dpi=150,transparent=False)"
   ]
  },
  {
   "cell_type": "markdown",
   "id": "db37d349",
   "metadata": {},
   "source": [
    "We will next examine the change on stations. We have a Box plot to show the distribution of \n",
    "Entries per station as a percentage of total traffic across the years. \n",
    "At 2020, we can see the distribution change. \n",
    "So many stations are seeing the shift, rather than a few large stations."
   ]
  },
  {
   "cell_type": "code",
   "execution_count": 91,
   "id": "656c78e2",
   "metadata": {
    "scrolled": true
   },
   "outputs": [
    {
     "data": {
      "text/html": [
       "<div>\n",
       "<style scoped>\n",
       "    .dataframe tbody tr th:only-of-type {\n",
       "        vertical-align: middle;\n",
       "    }\n",
       "\n",
       "    .dataframe tbody tr th {\n",
       "        vertical-align: top;\n",
       "    }\n",
       "\n",
       "    .dataframe thead th {\n",
       "        text-align: right;\n",
       "    }\n",
       "</style>\n",
       "<table border=\"1\" class=\"dataframe\">\n",
       "  <thead>\n",
       "    <tr style=\"text-align: right;\">\n",
       "      <th></th>\n",
       "      <th>UNIT</th>\n",
       "      <th>Year</th>\n",
       "      <th>Ent</th>\n",
       "      <th>Ext</th>\n",
       "      <th>Net</th>\n",
       "      <th>Total</th>\n",
       "      <th>ratio</th>\n",
       "    </tr>\n",
       "  </thead>\n",
       "  <tbody>\n",
       "    <tr>\n",
       "      <th>0</th>\n",
       "      <td>R001</td>\n",
       "      <td>2015</td>\n",
       "      <td>189574</td>\n",
       "      <td>188287</td>\n",
       "      <td>1287</td>\n",
       "      <td>377861</td>\n",
       "      <td>0.502</td>\n",
       "    </tr>\n",
       "    <tr>\n",
       "      <th>1</th>\n",
       "      <td>R001</td>\n",
       "      <td>2016</td>\n",
       "      <td>188537</td>\n",
       "      <td>202257</td>\n",
       "      <td>-13720</td>\n",
       "      <td>390794</td>\n",
       "      <td>0.482</td>\n",
       "    </tr>\n",
       "    <tr>\n",
       "      <th>2</th>\n",
       "      <td>R001</td>\n",
       "      <td>2017</td>\n",
       "      <td>217946</td>\n",
       "      <td>219135</td>\n",
       "      <td>-1189</td>\n",
       "      <td>437081</td>\n",
       "      <td>0.499</td>\n",
       "    </tr>\n",
       "    <tr>\n",
       "      <th>3</th>\n",
       "      <td>R001</td>\n",
       "      <td>2018</td>\n",
       "      <td>213668</td>\n",
       "      <td>185474</td>\n",
       "      <td>28194</td>\n",
       "      <td>399142</td>\n",
       "      <td>0.535</td>\n",
       "    </tr>\n",
       "    <tr>\n",
       "      <th>4</th>\n",
       "      <td>R001</td>\n",
       "      <td>2019</td>\n",
       "      <td>211718</td>\n",
       "      <td>179244</td>\n",
       "      <td>32474</td>\n",
       "      <td>390962</td>\n",
       "      <td>0.542</td>\n",
       "    </tr>\n",
       "    <tr>\n",
       "      <th>...</th>\n",
       "      <td>...</td>\n",
       "      <td>...</td>\n",
       "      <td>...</td>\n",
       "      <td>...</td>\n",
       "      <td>...</td>\n",
       "      <td>...</td>\n",
       "      <td>...</td>\n",
       "    </tr>\n",
       "    <tr>\n",
       "      <th>3262</th>\n",
       "      <td>R572</td>\n",
       "      <td>2017</td>\n",
       "      <td>111844</td>\n",
       "      <td>84737</td>\n",
       "      <td>27107</td>\n",
       "      <td>196581</td>\n",
       "      <td>0.569</td>\n",
       "    </tr>\n",
       "    <tr>\n",
       "      <th>3263</th>\n",
       "      <td>R572</td>\n",
       "      <td>2018</td>\n",
       "      <td>123392</td>\n",
       "      <td>86562</td>\n",
       "      <td>36830</td>\n",
       "      <td>209954</td>\n",
       "      <td>0.588</td>\n",
       "    </tr>\n",
       "    <tr>\n",
       "      <th>3264</th>\n",
       "      <td>R572</td>\n",
       "      <td>2019</td>\n",
       "      <td>125802</td>\n",
       "      <td>90288</td>\n",
       "      <td>35514</td>\n",
       "      <td>216090</td>\n",
       "      <td>0.582</td>\n",
       "    </tr>\n",
       "    <tr>\n",
       "      <th>3265</th>\n",
       "      <td>R572</td>\n",
       "      <td>2020</td>\n",
       "      <td>19458</td>\n",
       "      <td>17990</td>\n",
       "      <td>1468</td>\n",
       "      <td>37448</td>\n",
       "      <td>0.520</td>\n",
       "    </tr>\n",
       "    <tr>\n",
       "      <th>3266</th>\n",
       "      <td>R572</td>\n",
       "      <td>2021</td>\n",
       "      <td>44318</td>\n",
       "      <td>44265</td>\n",
       "      <td>53</td>\n",
       "      <td>88583</td>\n",
       "      <td>0.500</td>\n",
       "    </tr>\n",
       "  </tbody>\n",
       "</table>\n",
       "<p>3267 rows × 7 columns</p>\n",
       "</div>"
      ],
      "text/plain": [
       "      UNIT  Year     Ent     Ext    Net   Total  ratio\n",
       "0     R001  2015  189574  188287   1287  377861  0.502\n",
       "1     R001  2016  188537  202257 -13720  390794  0.482\n",
       "2     R001  2017  217946  219135  -1189  437081  0.499\n",
       "3     R001  2018  213668  185474  28194  399142  0.535\n",
       "4     R001  2019  211718  179244  32474  390962  0.542\n",
       "...    ...   ...     ...     ...    ...     ...    ...\n",
       "3262  R572  2017  111844   84737  27107  196581  0.569\n",
       "3263  R572  2018  123392   86562  36830  209954  0.588\n",
       "3264  R572  2019  125802   90288  35514  216090  0.582\n",
       "3265  R572  2020   19458   17990   1468   37448  0.520\n",
       "3266  R572  2021   44318   44265     53   88583  0.500\n",
       "\n",
       "[3267 rows x 7 columns]"
      ]
     },
     "execution_count": 91,
     "metadata": {},
     "output_type": "execute_result"
    }
   ],
   "source": [
    "#week_station = week[week['Week']<30].groupby(['UNIT','Year'])[['ENTRIES','EXITS']].sum().reset_index()\n",
    "week_station=pd.read_sql('''SELECT UNIT,Year, SUM(ENTRIES) Ent, SUM(EXITS) Ext\n",
    "FROM mta_station \n",
    "WHERE Week between 20 AND 30 \n",
    "GROUP BY UNIT,Year;''', engine)\n",
    "week_station['Net']=week_station['Ent']-week_station['Ext']\n",
    "week_station['Total']=week_station['Ent']+week_station['Ext']\n",
    "week_station['ratio']=week_station['Ent']/week_station['Total']\n",
    "week_station"
   ]
  },
  {
   "cell_type": "code",
   "execution_count": 11,
   "id": "d09e02b5",
   "metadata": {},
   "outputs": [
    {
     "data": {
      "image/png": "[encoded data removed]",
      "text/plain": [
       "<Figure size 432x288 with 1 Axes>"
      ]
     },
     "metadata": {
      "needs_background": "light"
     },
     "output_type": "display_data"
    }
   ],
   "source": [
    "week_station.boxplot(column=['ratio'],by='Year')\n",
    "plt.title('Ratio of Entries to total traffic')\n",
    "plt.yticks(np.linspace(0,1,11))\n",
    "plt.suptitle('')\n",
    "plt.savefig('boxplot.png')\n",
    "plt.show()"
   ]
  },
  {
   "cell_type": "markdown",
   "id": "8f4fa1f4",
   "metadata": {},
   "source": [
    "Use year 2019 as the base reference, "
   ]
  },
  {
   "cell_type": "markdown",
   "id": "f527b1fe",
   "metadata": {},
   "source": [
    "We will seperate out the data in June 2019 as reference, then merge the dataframe with all the data after 2019, so we can compare the data in other years with data in 2020."
   ]
  },
  {
   "cell_type": "code",
   "execution_count": 18,
   "id": "14be2cf1",
   "metadata": {},
   "outputs": [
    {
     "data": {
      "text/html": [
       "<div>\n",
       "<style scoped>\n",
       "    .dataframe tbody tr th:only-of-type {\n",
       "        vertical-align: middle;\n",
       "    }\n",
       "\n",
       "    .dataframe tbody tr th {\n",
       "        vertical-align: top;\n",
       "    }\n",
       "\n",
       "    .dataframe thead th {\n",
       "        text-align: right;\n",
       "    }\n",
       "</style>\n",
       "<table border=\"1\" class=\"dataframe\">\n",
       "  <thead>\n",
       "    <tr style=\"text-align: right;\">\n",
       "      <th></th>\n",
       "      <th>UNIT</th>\n",
       "      <th>Year</th>\n",
       "      <th>Week</th>\n",
       "      <th>Ent</th>\n",
       "      <th>Ext</th>\n",
       "      <th>Entref</th>\n",
       "      <th>Extref</th>\n",
       "    </tr>\n",
       "  </thead>\n",
       "  <tbody>\n",
       "    <tr>\n",
       "      <th>0</th>\n",
       "      <td>R001</td>\n",
       "      <td>2019</td>\n",
       "      <td>23</td>\n",
       "      <td>211718</td>\n",
       "      <td>179244</td>\n",
       "      <td>211718</td>\n",
       "      <td>179244</td>\n",
       "    </tr>\n",
       "    <tr>\n",
       "      <th>1</th>\n",
       "      <td>R001</td>\n",
       "      <td>2019</td>\n",
       "      <td>48</td>\n",
       "      <td>198224</td>\n",
       "      <td>167642</td>\n",
       "      <td>211718</td>\n",
       "      <td>179244</td>\n",
       "    </tr>\n",
       "    <tr>\n",
       "      <th>2</th>\n",
       "      <td>R001</td>\n",
       "      <td>2020</td>\n",
       "      <td>23</td>\n",
       "      <td>18800</td>\n",
       "      <td>21732</td>\n",
       "      <td>211718</td>\n",
       "      <td>179244</td>\n",
       "    </tr>\n",
       "    <tr>\n",
       "      <th>3</th>\n",
       "      <td>R001</td>\n",
       "      <td>2020</td>\n",
       "      <td>48</td>\n",
       "      <td>34686</td>\n",
       "      <td>36183</td>\n",
       "      <td>211718</td>\n",
       "      <td>179244</td>\n",
       "    </tr>\n",
       "    <tr>\n",
       "      <th>4</th>\n",
       "      <td>R001</td>\n",
       "      <td>2021</td>\n",
       "      <td>22</td>\n",
       "      <td>60604</td>\n",
       "      <td>70050</td>\n",
       "      <td>211718</td>\n",
       "      <td>179244</td>\n",
       "    </tr>\n",
       "    <tr>\n",
       "      <th>...</th>\n",
       "      <td>...</td>\n",
       "      <td>...</td>\n",
       "      <td>...</td>\n",
       "      <td>...</td>\n",
       "      <td>...</td>\n",
       "      <td>...</td>\n",
       "      <td>...</td>\n",
       "    </tr>\n",
       "    <tr>\n",
       "      <th>2337</th>\n",
       "      <td>R572</td>\n",
       "      <td>2019</td>\n",
       "      <td>23</td>\n",
       "      <td>125802</td>\n",
       "      <td>90288</td>\n",
       "      <td>125802</td>\n",
       "      <td>90288</td>\n",
       "    </tr>\n",
       "    <tr>\n",
       "      <th>2338</th>\n",
       "      <td>R572</td>\n",
       "      <td>2019</td>\n",
       "      <td>48</td>\n",
       "      <td>118448</td>\n",
       "      <td>81761</td>\n",
       "      <td>125802</td>\n",
       "      <td>90288</td>\n",
       "    </tr>\n",
       "    <tr>\n",
       "      <th>2339</th>\n",
       "      <td>R572</td>\n",
       "      <td>2020</td>\n",
       "      <td>23</td>\n",
       "      <td>19458</td>\n",
       "      <td>17990</td>\n",
       "      <td>125802</td>\n",
       "      <td>90288</td>\n",
       "    </tr>\n",
       "    <tr>\n",
       "      <th>2340</th>\n",
       "      <td>R572</td>\n",
       "      <td>2020</td>\n",
       "      <td>48</td>\n",
       "      <td>32220</td>\n",
       "      <td>31232</td>\n",
       "      <td>125802</td>\n",
       "      <td>90288</td>\n",
       "    </tr>\n",
       "    <tr>\n",
       "      <th>2341</th>\n",
       "      <td>R572</td>\n",
       "      <td>2021</td>\n",
       "      <td>22</td>\n",
       "      <td>44318</td>\n",
       "      <td>44265</td>\n",
       "      <td>125802</td>\n",
       "      <td>90288</td>\n",
       "    </tr>\n",
       "  </tbody>\n",
       "</table>\n",
       "<p>2342 rows × 7 columns</p>\n",
       "</div>"
      ],
      "text/plain": [
       "      UNIT  Year  Week     Ent     Ext  Entref  Extref\n",
       "0     R001  2019    23  211718  179244  211718  179244\n",
       "1     R001  2019    48  198224  167642  211718  179244\n",
       "2     R001  2020    23   18800   21732  211718  179244\n",
       "3     R001  2020    48   34686   36183  211718  179244\n",
       "4     R001  2021    22   60604   70050  211718  179244\n",
       "...    ...   ...   ...     ...     ...     ...     ...\n",
       "2337  R572  2019    23  125802   90288  125802   90288\n",
       "2338  R572  2019    48  118448   81761  125802   90288\n",
       "2339  R572  2020    23   19458   17990  125802   90288\n",
       "2340  R572  2020    48   32220   31232  125802   90288\n",
       "2341  R572  2021    22   44318   44265  125802   90288\n",
       "\n",
       "[2342 rows x 7 columns]"
      ]
     },
     "execution_count": 18,
     "metadata": {},
     "output_type": "execute_result"
    }
   ],
   "source": [
    "week_rec=pd.read_sql('''\n",
    "SELECT rec.UNIT,rec.Year,rec.Week, rec.Ent, \n",
    "     rec.Ext,ref.Ent Entref, ref.Ext Extref\n",
    "FROM (SELECT UNIT,Year,Week,SUM(ENTRIES) Ent, SUM(EXITS) Ext\n",
    "\t FROM mta_station \n",
    "\t WHERE Year >=2019\n",
    "\t GROUP BY UNIT,Year,Week) \n",
    "\t AS rec \n",
    "JOIN \n",
    "     (SELECT UNIT,SUM(ENTRIES) Ent, SUM(EXITS) Ext\n",
    "\t FROM mta_station \n",
    "\t WHERE Year=2019 AND Week=23\n",
    "\t GROUP BY UNIT) \n",
    "\t AS ref\n",
    "ON\trec.UNIT=ref.UNIT;''', engine)\n",
    "pd.read_sql('''SELECT UNIT,Year,Week, SUM(ENTRIES) Ent, SUM(EXITS) Ext\n",
    "FROM mta_station \n",
    "WHERE Year >= 2019 \n",
    "GROUP BY UNIT,Year,Week;''', engine)\n",
    "week_rec"
   ]
  },
  {
   "cell_type": "code",
   "execution_count": 20,
   "id": "b8616bad",
   "metadata": {},
   "outputs": [],
   "source": [
    "week_rec['Total']=week_rec['Ent']+week_rec['Ext']\n",
    "week_rec['Totalref']=week_rec['Entref']+week_rec['Extref']\n",
    "week_rec['ratio_diff']=week_rec['Ent']/week_rec['Total'] - (week_rec['Entref']/week_rec['Totalref'])"
   ]
  },
  {
   "cell_type": "code",
   "execution_count": 21,
   "id": "4c7c0e48",
   "metadata": {
    "scrolled": false
   },
   "outputs": [
    {
     "data": {
      "image/png": "[encoded data removed]",
      "text/plain": [
       "<Figure size 864x432 with 2 Axes>"
      ]
     },
     "metadata": {
      "needs_background": "light"
     },
     "output_type": "display_data"
    }
   ],
   "source": [
    "left1 = week_rec[(week_rec['Year']==2019) & (week_rec['Week']==48)]\n",
    "right1 = week_rec[(week_rec['Year']==2020) & (week_rec['Week']==23)]\n",
    "plt.figure(figsize=[12,6])\n",
    "plt.suptitle('')\n",
    "plt.subplot(1,2,1)\n",
    "plt.title('Dec 2019')\n",
    "left1.boxplot(column=['ratio_diff'])\n",
    "plt.subplot(1,2,2)\n",
    "right1.boxplot(column=['ratio_diff'])\n",
    "plt.title('June 2020')\n",
    "plt.savefig('Dboxplot.png',dpi=150)\n",
    "plt.show()"
   ]
  },
  {
   "cell_type": "markdown",
   "id": "1c7fb4ad",
   "metadata": {},
   "source": [
    "We then look at the change in the ratio across the stations. We can see many stations are seeing the shift in rations. About 50% of the stations, are seeing a change anywhere from 5% to 10% change. We will next try to examine the change in net traffic terms, rather than in ratio terms. "
   ]
  },
  {
   "cell_type": "markdown",
   "id": "dd947985",
   "metadata": {},
   "source": [
    "We know check the change in net traffic flow in 2019 compared to 2020."
   ]
  },
  {
   "cell_type": "code",
   "execution_count": 24,
   "id": "b862193c",
   "metadata": {},
   "outputs": [
    {
     "data": {
      "text/plain": [
       "7277640"
      ]
     },
     "execution_count": 24,
     "metadata": {},
     "output_type": "execute_result"
    }
   ],
   "source": [
    "week_rec['Net']=week_rec.Ent-week_rec.Ext\n",
    "week_rec['Net_diff']=week_rec.Net-(week_rec.Entref-week_rec.Extref)\n",
    "week_rec[(week_rec.Year==2019)&(week_rec.Week==23)].Net.sum()"
   ]
  },
  {
   "cell_type": "code",
   "execution_count": 25,
   "id": "0783b25c",
   "metadata": {},
   "outputs": [
    {
     "data": {
      "text/plain": [
       "-218028"
      ]
     },
     "execution_count": 25,
     "metadata": {},
     "output_type": "execute_result"
    }
   ],
   "source": [
    "week_rec[(week_rec.Year==2020) & (week_rec.Week==23)].Net.sum()"
   ]
  },
  {
   "cell_type": "markdown",
   "id": "507ed49e",
   "metadata": {},
   "source": [
    "We then sum up the change of net traffic, and it is 7.5 million, across 470 stations."
   ]
  },
  {
   "cell_type": "code",
   "execution_count": 26,
   "id": "b3833ed7",
   "metadata": {},
   "outputs": [
    {
     "data": {
      "text/plain": [
       "469"
      ]
     },
     "execution_count": 26,
     "metadata": {},
     "output_type": "execute_result"
    }
   ],
   "source": [
    "current=week_rec[(week_rec.Year==2020) & (week_rec.Week==23)].Net_diff\n",
    "len(current)"
   ]
  },
  {
   "cell_type": "markdown",
   "id": "149d65b6",
   "metadata": {},
   "source": [
    "We check the sum of the top 68 stations with most changes, it is -3.8 million."
   ]
  },
  {
   "cell_type": "code",
   "execution_count": 27,
   "id": "9a449693",
   "metadata": {},
   "outputs": [
    {
     "data": {
      "text/plain": [
       "-3789128"
      ]
     },
     "execution_count": 27,
     "metadata": {},
     "output_type": "execute_result"
    }
   ],
   "source": [
    "current.sort_values()[0:68].sum()"
   ]
  },
  {
   "cell_type": "markdown",
   "id": "360b48ff",
   "metadata": {},
   "source": [
    "We check the sum of the remaining stations, it is -3.7 million."
   ]
  },
  {
   "cell_type": "code",
   "execution_count": 28,
   "id": "0a88957a",
   "metadata": {
    "scrolled": true
   },
   "outputs": [
    {
     "data": {
      "text/plain": [
       "-3706540"
      ]
     },
     "execution_count": 28,
     "metadata": {},
     "output_type": "execute_result"
    }
   ],
   "source": [
    "current.sort_values()[68:].sum()"
   ]
  },
  {
   "cell_type": "markdown",
   "id": "ca2ce9ea",
   "metadata": {},
   "source": [
    "We then get a list of statons and see which statons have the msot changes."
   ]
  },
  {
   "cell_type": "code",
   "execution_count": 29,
   "id": "51e50f16",
   "metadata": {},
   "outputs": [
    {
     "data": {
      "text/plain": [
       "152    -124117\n",
       "52     -114477\n",
       "47     -107283\n",
       "62      -90743\n",
       "102     -83168\n",
       "         ...  \n",
       "2264     17540\n",
       "57       42276\n",
       "197      43666\n",
       "2224     46207\n",
       "147      85254\n",
       "Name: Net_diff, Length: 469, dtype: int64"
      ]
     },
     "execution_count": 29,
     "metadata": {},
     "output_type": "execute_result"
    }
   ],
   "source": [
    "current.sort_values()"
   ]
  },
  {
   "cell_type": "code",
   "execution_count": 62,
   "id": "c125d183",
   "metadata": {},
   "outputs": [
    {
     "data": {
      "text/plain": [
       "'R033'"
      ]
     },
     "execution_count": 62,
     "metadata": {},
     "output_type": "execute_result"
    }
   ],
   "source": [
    "week_rec.loc[152,'UNIT']"
   ]
  },
  {
   "cell_type": "code",
   "execution_count": 36,
   "id": "b59c944b",
   "metadata": {},
   "outputs": [
    {
     "data": {
      "text/plain": [
       "'R032'"
      ]
     },
     "execution_count": 36,
     "metadata": {},
     "output_type": "execute_result"
    }
   ],
   "source": [
    "week_rec.loc[147,'UNIT']"
   ]
  },
  {
   "cell_type": "markdown",
   "id": "26f477fe",
   "metadata": {},
   "source": [
    "From the table we see R033 station is \"42 ST-TIMES SQ\", Time Square station, and\n",
    "and R012 is \"34 ST-PENN STA\", The train Station Penn Station."
   ]
  },
  {
   "cell_type": "code",
   "execution_count": null,
   "id": "cc509bf6",
   "metadata": {},
   "outputs": [],
   "source": []
  }
 ],
 "metadata": {
  "kernelspec": {
   "display_name": "Python [conda env:metis] *",
   "language": "python",
   "name": "conda-env-metis-py"
  },
  "language_info": {
   "codemirror_mode": {
    "name": "ipython",
    "version": 3
   },
   "file_extension": ".py",
   "mimetype": "text/x-python",
   "name": "python",
   "nbconvert_exporter": "python",
   "pygments_lexer": "ipython3",
   "version": "3.8.10"
  }
 },
 "nbformat": 4,
 "nbformat_minor": 5
}
